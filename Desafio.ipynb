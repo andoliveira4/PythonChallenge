{
 "cells": [
  {
   "cell_type": "markdown",
   "metadata": {},
   "source": [
    "### Desafio - Anderson Oliveira Magalhães\n",
    "\n",
    "Baixe o arquivo https://storage.googleapis.com/n2b-public-assets/challenge.zip (656.58 MB) ao extrair você irá encontrar 2 arquivos CSV e uma pasta com imagens. No arquivo test.csv você encontrará as seguintes colunas:\n",
    "\n",
    "\n",
    "    •id - Identificação do registro\n",
    "    •img - Nome do arquivo\n",
    "    •x1 - Posição x1 do retângulo\n",
    "    •y1 - Posição y1 do retângulo\n",
    "    •x2 - Posição x2 do retângulo\n",
    "    •y2 - Posição y2 do retângulo\n",
    "    •result - Resultado do cálculo.\n",
    "\n",
    "No arquivo data.csv você encontrará as mesmas colunas, no entanto sem a coluna result a qual você irá calcular. Na pasta imgs você encontrará as imagens necessárias para utilizar no desafio."
   ]
  },
  {
   "cell_type": "code",
   "execution_count": 1,
   "metadata": {},
   "outputs": [
    {
     "data": {
      "text/html": [
       "<div>\n",
       "<style scoped>\n",
       "    .dataframe tbody tr th:only-of-type {\n",
       "        vertical-align: middle;\n",
       "    }\n",
       "\n",
       "    .dataframe tbody tr th {\n",
       "        vertical-align: top;\n",
       "    }\n",
       "\n",
       "    .dataframe thead th {\n",
       "        text-align: right;\n",
       "    }\n",
       "</style>\n",
       "<table border=\"1\" class=\"dataframe\">\n",
       "  <thead>\n",
       "    <tr style=\"text-align: right;\">\n",
       "      <th></th>\n",
       "      <th>id</th>\n",
       "      <th>img</th>\n",
       "      <th>x1</th>\n",
       "      <th>y1</th>\n",
       "      <th>x2</th>\n",
       "      <th>y2</th>\n",
       "      <th>result</th>\n",
       "    </tr>\n",
       "  </thead>\n",
       "  <tbody>\n",
       "    <tr>\n",
       "      <th>0</th>\n",
       "      <td>0</td>\n",
       "      <td>000002b66c9c498e.jpg</td>\n",
       "      <td>536</td>\n",
       "      <td>685</td>\n",
       "      <td>950</td>\n",
       "      <td>1005</td>\n",
       "      <td>-</td>\n",
       "    </tr>\n",
       "    <tr>\n",
       "      <th>1</th>\n",
       "      <td>1</td>\n",
       "      <td>000002b66c9c498e.jpg</td>\n",
       "      <td>538</td>\n",
       "      <td>680</td>\n",
       "      <td>942</td>\n",
       "      <td>1000</td>\n",
       "      <td>-</td>\n",
       "    </tr>\n",
       "    <tr>\n",
       "      <th>2</th>\n",
       "      <td>2</td>\n",
       "      <td>000002b66c9c498e.jpg</td>\n",
       "      <td>541</td>\n",
       "      <td>691</td>\n",
       "      <td>946</td>\n",
       "      <td>987</td>\n",
       "      <td>-</td>\n",
       "    </tr>\n",
       "    <tr>\n",
       "      <th>3</th>\n",
       "      <td>4</td>\n",
       "      <td>0000608cc97a2b17.jpg</td>\n",
       "      <td>203</td>\n",
       "      <td>435</td>\n",
       "      <td>236</td>\n",
       "      <td>454</td>\n",
       "      <td>-</td>\n",
       "    </tr>\n",
       "    <tr>\n",
       "      <th>4</th>\n",
       "      <td>5</td>\n",
       "      <td>0000608cc97a2b17.jpg</td>\n",
       "      <td>94</td>\n",
       "      <td>386</td>\n",
       "      <td>147</td>\n",
       "      <td>439</td>\n",
       "      <td>-</td>\n",
       "    </tr>\n",
       "  </tbody>\n",
       "</table>\n",
       "</div>"
      ],
      "text/plain": [
       "   id                   img   x1   y1   x2    y2 result\n",
       "0   0  000002b66c9c498e.jpg  536  685  950  1005      -\n",
       "1   1  000002b66c9c498e.jpg  538  680  942  1000      -\n",
       "2   2  000002b66c9c498e.jpg  541  691  946   987      -\n",
       "3   4  0000608cc97a2b17.jpg  203  435  236   454      -\n",
       "4   5  0000608cc97a2b17.jpg   94  386  147   439      -"
      ]
     },
     "metadata": {},
     "output_type": "display_data"
    }
   ],
   "source": [
    "import pandas as pd\n",
    "import numpy as np\n",
    "#import matplotlib.pyplot as plt\n",
    "from PIL import Image\n",
    "\n",
    "dsDesafio = pd.read_csv(\"challenge/data.csv\")\n",
    "dsDesafio.loc[:,'result'] = \"-\"\n",
    "\n",
    "display(dsDesafio.head())"
   ]
  },
  {
   "cell_type": "markdown",
   "metadata": {},
   "source": [
    "1) Para calcular o resultado esperado realize o seguinte procedimento em cada uma das linhas: \n",
    "\n",
    "    • Utilize a biblioteca pillow para abrir a imagem\n",
    "    • Faça o crop da imagem utilizando os pontos x1, y1, x2, y2 (nessa mesma ordem)\n",
    "    • Busque o histograma de cada uma das faixas de RGB do crop da imagem\n",
    "    • Faça a somatória do histograma de todas as faixas retornando um único valor\n",
    "    • Adicione o resultado na coluna result"
   ]
  },
  {
   "cell_type": "code",
   "execution_count": 2,
   "metadata": {},
   "outputs": [
    {
     "data": {
      "text/html": [
       "<div>\n",
       "<style scoped>\n",
       "    .dataframe tbody tr th:only-of-type {\n",
       "        vertical-align: middle;\n",
       "    }\n",
       "\n",
       "    .dataframe tbody tr th {\n",
       "        vertical-align: top;\n",
       "    }\n",
       "\n",
       "    .dataframe thead th {\n",
       "        text-align: right;\n",
       "    }\n",
       "</style>\n",
       "<table border=\"1\" class=\"dataframe\">\n",
       "  <thead>\n",
       "    <tr style=\"text-align: right;\">\n",
       "      <th></th>\n",
       "      <th>id</th>\n",
       "      <th>img</th>\n",
       "      <th>x1</th>\n",
       "      <th>y1</th>\n",
       "      <th>x2</th>\n",
       "      <th>y2</th>\n",
       "      <th>result</th>\n",
       "    </tr>\n",
       "  </thead>\n",
       "  <tbody>\n",
       "    <tr>\n",
       "      <th>0</th>\n",
       "      <td>0</td>\n",
       "      <td>000002b66c9c498e.jpg</td>\n",
       "      <td>536</td>\n",
       "      <td>685</td>\n",
       "      <td>950</td>\n",
       "      <td>1005</td>\n",
       "      <td>397440</td>\n",
       "    </tr>\n",
       "    <tr>\n",
       "      <th>1</th>\n",
       "      <td>1</td>\n",
       "      <td>000002b66c9c498e.jpg</td>\n",
       "      <td>538</td>\n",
       "      <td>680</td>\n",
       "      <td>942</td>\n",
       "      <td>1000</td>\n",
       "      <td>387840</td>\n",
       "    </tr>\n",
       "    <tr>\n",
       "      <th>2</th>\n",
       "      <td>2</td>\n",
       "      <td>000002b66c9c498e.jpg</td>\n",
       "      <td>541</td>\n",
       "      <td>691</td>\n",
       "      <td>946</td>\n",
       "      <td>987</td>\n",
       "      <td>359640</td>\n",
       "    </tr>\n",
       "    <tr>\n",
       "      <th>3</th>\n",
       "      <td>4</td>\n",
       "      <td>0000608cc97a2b17.jpg</td>\n",
       "      <td>203</td>\n",
       "      <td>435</td>\n",
       "      <td>236</td>\n",
       "      <td>454</td>\n",
       "      <td>1881</td>\n",
       "    </tr>\n",
       "    <tr>\n",
       "      <th>4</th>\n",
       "      <td>5</td>\n",
       "      <td>0000608cc97a2b17.jpg</td>\n",
       "      <td>94</td>\n",
       "      <td>386</td>\n",
       "      <td>147</td>\n",
       "      <td>439</td>\n",
       "      <td>8427</td>\n",
       "    </tr>\n",
       "  </tbody>\n",
       "</table>\n",
       "</div>"
      ],
      "text/plain": [
       "   id                   img   x1   y1   x2    y2  result\n",
       "0   0  000002b66c9c498e.jpg  536  685  950  1005  397440\n",
       "1   1  000002b66c9c498e.jpg  538  680  942  1000  387840\n",
       "2   2  000002b66c9c498e.jpg  541  691  946   987  359640\n",
       "3   4  0000608cc97a2b17.jpg  203  435  236   454    1881\n",
       "4   5  0000608cc97a2b17.jpg   94  386  147   439    8427"
      ]
     },
     "metadata": {},
     "output_type": "display_data"
    }
   ],
   "source": [
    "def getRGBImage(img, channel): #Pega o canal RGB Desejado\n",
    "    return img.getchannel(channel)\n",
    "\n",
    "def getHistogram(img): #Pega o Histograma de uma imagem\n",
    "    return img.histogram()\n",
    "    \n",
    "def cropImage(img, x1, y1, x2, y2): #Realiza o crop de uma imagem baseada nas dimensões recebidas\n",
    "    cropArea = (x1,y1,x2,y2)\n",
    "    return img.crop(cropArea)\n",
    "\n",
    "def showImage(red, green, blue): #Mostra a imagem que foi processada, meramente ilustrativa\n",
    "    merge = Image.merge(\"RGB\", (red, green, blue))\n",
    "    merge.show()\n",
    "    #red.show()\n",
    "    #green.show()\n",
    "    #blue.show()    \n",
    "\n",
    "def sumHistogram(red, green, blue): #Soma os Histogramas\n",
    "    return (sum(getHistogram(red)) + sum(getHistogram(red)) + sum(getHistogram(blue))) \n",
    "\n",
    "def executeChallenge(): #Executa os cálculos\n",
    "    \n",
    "    resultArray = []\n",
    "    for index, row in dsDesafio.iterrows():\n",
    "\n",
    "        img = Image.open(\"challenge/imgs/\" + row[\"img\"])\n",
    "        imCrop = cropImage(img, row[\"x1\"], row[\"y1\"], row[\"x2\"], row[\"y2\"])\n",
    "        \n",
    "        red = getRGBImage(imCrop, \"R\")\n",
    "        green = getRGBImage(imCrop, \"G\")\n",
    "        blue = getRGBImage(imCrop, \"B\")\n",
    "        \n",
    "        resultArray.append(sumHistogram(red, green, blue))        \n",
    "         \n",
    "        if(index == 0):showImage(red, green, blue)\n",
    "    \n",
    "    dsDesafioLimpo = dsDesafio.copy(deep=False)\n",
    "    dsDesafioLimpo['result'] = resultArray    \n",
    "    display(dsDesafioLimpo.head())    \n",
    "    \n",
    "executeChallenge()"
   ]
  },
  {
   "cell_type": "markdown",
   "metadata": {},
   "source": [
    "2) Otimize o processo anterior para que rode mais rapidamente utilizando todos os cores de CPU."
   ]
  },
  {
   "cell_type": "code",
   "execution_count": 3,
   "metadata": {},
   "outputs": [],
   "source": [
    "R = \"Threads & Sockets\""
   ]
  },
  {
   "cell_type": "markdown",
   "metadata": {},
   "source": [
    "3) Crie uma API simples que recebe POST com upload de uma imagem e os valores x1, y1, x2, y2 e retorne um JSON com o valor calculado."
   ]
  },
  {
   "cell_type": "markdown",
   "metadata": {},
   "source": [
    "### Executar os comandos abaixo para habilitar a API\n",
    "\n",
    "   #### - pip install Django\n",
    "   #### - pip install djangorestframework\n",
    "   #### - Procurar a pasta root da branch \\PythonChallenge e executar o comando 'cd/api' via prompt\n",
    "   #### - Executar o comando python manage.py runserver\n",
    "   #### - Executar o comando abaixo caso apareça a mensagem: \n",
    "        Django version 2.1.4, using settings 'api.settings'\n",
    "        Starting development server at http://127.0.0.1:8000/\n",
    "        Quit the server with CTRL-BREAK.\n"
   ]
  },
  {
   "cell_type": "code",
   "execution_count": 4,
   "metadata": {},
   "outputs": [
    {
     "name": "stdout",
     "output_type": "stream",
     "text": [
      "{'id': 0, 'img': '000002b66c9c498e.jpg', 'x1': 536, 'y1': 685, 'x2': 950, 'y2': 1005, 'result': 397440}\n",
      "{'id': 1, 'img': '000002b66c9c498e.jpg', 'x1': 538, 'y1': 680, 'x2': 942, 'y2': 1000, 'result': 387840}\n",
      "{'id': 2, 'img': '000002b66c9c498e.jpg', 'x1': 541, 'y1': 691, 'x2': 946, 'y2': 987, 'result': 359640}\n",
      "{'id': 4, 'img': '0000608cc97a2b17.jpg', 'x1': 203, 'y1': 435, 'x2': 236, 'y2': 454, 'result': 1881}\n",
      "{'id': 5, 'img': '0000608cc97a2b17.jpg', 'x1': 94, 'y1': 386, 'x2': 147, 'y2': 439, 'result': 8427}\n",
      "{'id': 6, 'img': '0000608cc97a2b17.jpg', 'x1': 364, 'y1': 413, 'x2': 404, 'y2': 465, 'result': 6240}\n",
      "{'id': 7, 'img': '0000608cc97a2b17.jpg', 'x1': 673, 'y1': 397, 'x2': 735, 'y2': 436, 'result': 7254}\n",
      "{'id': 8, 'img': '0000608cc97a2b17.jpg', 'x1': 604, 'y1': 404, 'x2': 665, 'y2': 461, 'result': 10431}\n",
      "{'id': 9, 'img': '0000608cc97a2b17.jpg', 'x1': 461, 'y1': 406, 'x2': 505, 'y2': 445, 'result': 5148}\n",
      "{'id': 10, 'img': '0000608cc97a2b17.jpg', 'x1': 381, 'y1': 405, 'x2': 412, 'y2': 456, 'result': 4743}\n",
      "{'id': 11, 'img': '0000608cc97a2b17.jpg', 'x1': 0, 'y1': 430, 'x2': 10, 'y2': 447, 'result': 510}\n"
     ]
    }
   ],
   "source": [
    "import requests\n",
    "\n",
    "for index, row in dsDesafio.iterrows():\n",
    "    files = {\n",
    "        'id': (None, row['id']),\n",
    "        'img': (None, row['img']),\n",
    "        'x1': (None, row['x1']),\n",
    "        'y1': (None, row['y1']),\n",
    "        'x2': (None, row['x2']),\n",
    "        'y2': (None, row['y2']),\n",
    "    }\n",
    "    response = requests.post('http://127.0.0.1:8000/validation/', files=files)\n",
    "    print(response.json())\n",
    "    "
   ]
  },
  {
   "cell_type": "markdown",
   "metadata": {},
   "source": [
    "4) Faça testes unitários da API utilizando os dados do arquivo test.csv"
   ]
  },
  {
   "cell_type": "markdown",
   "metadata": {},
   "source": [
    "#### Procurar a pasta root da branch \\PythonChallenge e executar o comando 'cd/api' via prompt\n",
    "#### Executar o comando python manage.py test"
   ]
  },
  {
   "cell_type": "raw",
   "metadata": {},
   "source": [
    "Creating test database for alias 'default'...\n",
    "System check identified no issues (0 silenced).\n",
    ".\n",
    "----------------------------------------------------------------------\n",
    "Ran 1 test in 0.090s\n",
    "\n",
    "OK\n",
    "Destroying test database for alias 'default'..."
   ]
  },
  {
   "cell_type": "code",
   "execution_count": 5,
   "metadata": {},
   "outputs": [],
   "source": [
    "#data = imgCrop.getdata()\n",
    "#r = [(d[0], 0, 0) for d in data]\n",
    "#g = [(0, d[1], 0) for d in data]\n",
    "#b = [(0, 0, d[2]) for d in data]\n",
    "#imgCrop.putdata(r)\n",
    "#imgCrop.putdata(g)\n",
    "#imgCrop.putdata(b)\n",
    "#print(r)"
   ]
  }
 ],
 "metadata": {
  "kernelspec": {
   "display_name": "Python 3",
   "language": "python",
   "name": "python3"
  },
  "language_info": {
   "codemirror_mode": {
    "name": "ipython",
    "version": 3
   },
   "file_extension": ".py",
   "mimetype": "text/x-python",
   "name": "python",
   "nbconvert_exporter": "python",
   "pygments_lexer": "ipython3",
   "version": "3.7.0"
  }
 },
 "nbformat": 4,
 "nbformat_minor": 2
}
